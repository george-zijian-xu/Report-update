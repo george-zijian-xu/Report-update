{
 "cells": [
  {
   "cell_type": "code",
   "execution_count": 1,
   "metadata": {},
   "outputs": [],
   "source": [
    "import os, config\n",
    "from llama_index import VectorStoreIndex, SimpleDirectoryReader, ServiceContext #This is for ver 0.7.22\n",
    "from llama_index.embeddings import OpenAIEmbedding"
   ]
  },
  {
   "cell_type": "code",
   "execution_count": 2,
   "metadata": {},
   "outputs": [],
   "source": [
    "#Login\n",
    "os.environ['OPENAI_API_KEY']=config.OPENAI_API_KEY\n",
    "\n",
    "#Service context\n",
    "'''\n",
    "Can change embeddings here. See https://gpt-index.readthedocs.io/en/stable/core_modules/model_modules/embeddings/usage_pattern.html#batch-size\n",
    "for more details on changing embedding models. For instance, can use langchain or hugging face.\n",
    "'''\n",
    "embed_model = OpenAIEmbedding(embed_batch_size=500) #With default batch size 10, suggest 42, try 500\n",
    "service_context = ServiceContext.from_defaults()#embed_model=\"embed_model\""
   ]
  },
  {
   "cell_type": "code",
   "execution_count": 3,
   "metadata": {},
   "outputs": [
    {
     "name": "stdout",
     "output_type": "stream",
     "text": [
      "Done loading\n",
      "Done indexing\n",
      "Saved\n"
     ]
    }
   ],
   "source": [
    "documents = SimpleDirectoryReader('Articles').load_data()\n",
    "print(\"Done loading\")\n",
    "\n",
    "index = VectorStoreIndex.from_documents(documents)\n",
    "print(\"Done indexing\")\n",
    "\n",
    "index.storage_context.persist(persist_dir=\"indexNews.json\")\n",
    "print(\"Saved\")"
   ]
  },
  {
   "cell_type": "code",
   "execution_count": null,
   "metadata": {},
   "outputs": [],
   "source": []
  }
 ],
 "metadata": {
  "kernelspec": {
   "display_name": "FinAnna",
   "language": "python",
   "name": "python3"
  },
  "language_info": {
   "codemirror_mode": {
    "name": "ipython",
    "version": 3
   },
   "file_extension": ".py",
   "mimetype": "text/x-python",
   "name": "python",
   "nbconvert_exporter": "python",
   "pygments_lexer": "ipython3",
   "version": "3.10.12"
  },
  "orig_nbformat": 4
 },
 "nbformat": 4,
 "nbformat_minor": 2
}
