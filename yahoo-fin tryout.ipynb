{
 "cells": [
  {
   "cell_type": "code",
   "execution_count": 32,
   "metadata": {},
   "outputs": [],
   "source": [
    "import yfinance as yf\n",
    "\n",
    "nvda = yf.Ticker(\"NVDA\")\n",
    "\n",
    "# # get all stock info\n",
    "# msft.info\n",
    "\n",
    "# # get historical market data\n",
    "# hist = msft.history(period=\"1mo\")\n",
    "\n",
    "# # show meta information about the history (requires history() to be called first)\n",
    "# msft.history_metadata\n",
    "\n",
    "# # show actions (dividends, splits, capital gains)\n",
    "# msft.actions\n",
    "# msft.dividends\n",
    "# msft.splits\n",
    "# msft.capital_gains  # only for mutual funds & etfs\n",
    "\n",
    "# # show share count\n",
    "# msft.get_shares_full(start=\"2022-01-01\", end=None)\n",
    "\n",
    "# # show financials:\n",
    "# # - income statement\n",
    "# msft.income_stmt\n",
    "# msft.news\n"
   ]
  },
  {
   "cell_type": "code",
   "execution_count": 48,
   "metadata": {},
   "outputs": [
    {
     "name": "stdout",
     "output_type": "stream",
     "text": [
      "<class 'NoneType'>\n"
     ]
    }
   ],
   "source": [
    "import pandas\n",
    "k=nvda.balance_sheet.to_excel('istmt.xlsx')\n",
    "k\n",
    "print(type(k))"
   ]
  },
  {
   "cell_type": "code",
   "execution_count": null,
   "metadata": {},
   "outputs": [],
   "source": []
  }
 ],
 "metadata": {
  "kernelspec": {
   "display_name": "FinAnna",
   "language": "python",
   "name": "python3"
  },
  "language_info": {
   "codemirror_mode": {
    "name": "ipython",
    "version": 3
   },
   "file_extension": ".py",
   "mimetype": "text/x-python",
   "name": "python",
   "nbconvert_exporter": "python",
   "pygments_lexer": "ipython3",
   "version": "3.10.12"
  },
  "orig_nbformat": 4
 },
 "nbformat": 4,
 "nbformat_minor": 2
}
