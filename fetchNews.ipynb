{
 "cells": [
  {
   "cell_type": "code",
   "execution_count": 6,
   "metadata": {},
   "outputs": [],
   "source": [
    "import datetime, requests, yfinance, os\n",
    "from alpaca_trade_api.rest import REST\n",
    "from getpass import getpass\n",
    "from docx import Document\n",
    "from bs4 import BeautifulSoup\n",
    "from llama_index import GPTVectorStoreIndex, SimpleDirectoryReader"
   ]
  },
  {
   "cell_type": "code",
   "execution_count": 7,
   "metadata": {},
   "outputs": [],
   "source": [
    "BASE_URL=\"https://paper-api.alpaca.markets\"\n",
    "API_KEY = \"PK2VQM34GZV9THDD5EM2\"\n",
    "SECRET_KEY =\"ITtLKBlrJu3RbfRdAHeB6VsBL10y54GfAv7LN1hM\""
   ]
  },
  {
   "cell_type": "code",
   "execution_count": 8,
   "metadata": {},
   "outputs": [],
   "source": [
    "api = REST(key_id=API_KEY, secret_key=SECRET_KEY, base_url=BASE_URL)"
   ]
  },
  {
   "cell_type": "code",
   "execution_count": 9,
   "metadata": {},
   "outputs": [],
   "source": [
    "news = api.get_news('MS',include_content=True,exclude_contentless=True)"
   ]
  },
  {
   "cell_type": "code",
   "execution_count": 10,
   "metadata": {},
   "outputs": [
    {
     "name": "stdout",
     "output_type": "stream",
     "text": [
      "Word documents have been created and saved to the desired directory.\n"
     ]
    }
   ],
   "source": [
    "# Directory where you want to save the Word documents\n",
    "output_directory = 'C:\\\\Users\\\\georg\\\\Desktop\\\\Bulk processing\\\\Articles' \n",
    "# Make sure the directory exists\n",
    "if not os.path.exists(output_directory):\n",
    "    os.makedirs(output_directory)\n",
    "\n",
    "# Loop through the news items\n",
    "for item in news:\n",
    "    # Create a Word document\n",
    "    doc = Document()\n",
    "    \n",
    "    # Add the title\n",
    "    doc.add_heading(item.headline, level=0)\n",
    "\n",
    "    # Add the author and date\n",
    "    doc.add_paragraph(f\"Author: {item.author}\")\n",
    "    doc.add_paragraph(f\"Date: {item.created_at}\")\n",
    "\n",
    "    # Add the content, assuming it's in HTML format\n",
    "    from html import unescape\n",
    "    content = unescape(item.content)\n",
    "    soup = BeautifulSoup(content, 'html.parser')\n",
    "    for paragraph in soup.find_all('p'): #Check to see if have poor formatting\n",
    "        doc.add_paragraph(paragraph.get_text())\n",
    "    \n",
    "    # Save the Word document to the specified directory\n",
    "    file_path = os.path.join(output_directory, f'{item.id}.docx')\n",
    "    doc.save(file_path)\n",
    "\n",
    "print(\"Word documents have been created and saved to the desired directory.\")"
   ]
  },
  {
   "cell_type": "code",
   "execution_count": null,
   "metadata": {},
   "outputs": [],
   "source": []
  }
 ],
 "metadata": {
  "kernelspec": {
   "display_name": "FinAnna",
   "language": "python",
   "name": "python3"
  },
  "language_info": {
   "codemirror_mode": {
    "name": "ipython",
    "version": 3
   },
   "file_extension": ".py",
   "mimetype": "text/x-python",
   "name": "python",
   "nbconvert_exporter": "python",
   "pygments_lexer": "ipython3",
   "version": "3.10.12"
  },
  "orig_nbformat": 4
 },
 "nbformat": 4,
 "nbformat_minor": 2
}
