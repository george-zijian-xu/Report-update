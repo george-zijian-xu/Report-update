{
 "cells": [
  {
   "cell_type": "code",
   "execution_count": 50,
   "metadata": {},
   "outputs": [],
   "source": [
    "import logging, os, sys, config, json\n",
    "from datetime import datetime\n",
    "from typing import Any, Callable, Dict, List, Optional, Tuple, cast\n",
    "from llama_index import load_index_from_storage\n",
    "from llama_index.llms import OpenAI\n",
    "from llama_index.storage import StorageContext\n",
    "from llama_index.schema import NodeWithScore, TextNode\n",
    "from llama_index.indices.query.schema import QueryBundle\n",
    "from llama_index.indices.query.base import BaseQueryEngine\n",
    "from llama_index.indices.query.query_transform.base import StepDecomposeQueryTransform\n",
    "from llama_index.response.schema import RESPONSE_TYPE\n",
    "from llama_index.response_synthesizers import BaseSynthesizer, get_response_synthesizer\n",
    "from llama_index.query_engine.multistep_query_engine import MultiStepQueryEngine\n"
   ]
  },
  {
   "cell_type": "code",
   "execution_count": 51,
   "metadata": {},
   "outputs": [],
   "source": [
    "class FinancialReportGenerator:\n",
    "    def __init__(self, index_file, questions_file):\n",
    "        self.index_file = index_file\n",
    "        self.questions_file = questions_file\n",
    "        self.setup_openai()\n",
    "        self.setup_index()\n",
    "\n",
    "    def setup_openai(self):\n",
    "        os.environ['OPENAI_API_KEY'] = config.OPENAI_API_KEY\n",
    "\n",
    "    def setup_index(self):\n",
    "        storage_context = StorageContext.from_defaults(persist_dir=self.index_file)\n",
    "        index = load_index_from_storage(storage_context)\n",
    "        self.query_engine = index.as_query_engine()\n",
    "        # base_query_engine = load_index_from_storage(storage_context)\n",
    "        # query_transform = StepDecomposeQueryTransform()  \n",
    "        # index_summary=\"write this every time\"\n",
    "        # print(type(self))\n",
    "        # self.query_engine = MultiStepQueryEngine(query_engine=base_query_engine, query_transform=query_transform, index_summary=index_summary, response_synthesizer=BaseSynthesizer) #,query_transform=query_transform\n",
    "\n",
    "    def load_questions(self):\n",
    "        with open(self.questions_file, 'r') as f:\n",
    "            paragraphs = f.read().split('\\n\\n')\n",
    "            return [paragraph.replace('\\n', ' ') for paragraph in paragraphs]\n",
    "\n",
    "\n",
    "    def string_save(self, outputstr):\n",
    "        timestamp = datetime.now().strftime(\"%Y%m%d%H%M%S\")\n",
    "        folder_path = 'Response String'\n",
    "        filename = f'response_str_{timestamp}.txt'\n",
    "        full_path = os.path.join(folder_path, filename)\n",
    "        with open(full_path, 'w') as file:\n",
    "            file.write(outputstr)\n",
    "        return filename\n",
    "\n",
    "    def generate_report(self):\n",
    "        questions = self.load_questions()\n",
    "        for q in questions:\n",
    "            query_bundle = QueryBundle(q)  # Constructing a QueryBundle with the question\n",
    "            response = self.query_engine.query(q)\n",
    "            filename = self.string_save(response.response)\n",
    "            print(f\"String saved to {filename}\")\n",
    "\n",
    "# if __name__ == \"__main__\":    \n",
    "#     generator = FinancialReportGenerator(index_file=\"indexNews.json\", questions_file=\"questions.txt\")\n",
    "#     generator.generate_report()"
   ]
  },
  {
   "cell_type": "code",
   "execution_count": 52,
   "metadata": {},
   "outputs": [
    {
     "name": "stdout",
     "output_type": "stream",
     "text": [
      "String saved to response_str_20230812230336.txt\n",
      "String saved to response_str_20230812230339.txt\n",
      "String saved to response_str_20230812230345.txt\n",
      "String saved to response_str_20230812230349.txt\n",
      "String saved to response_str_20230812230352.txt\n"
     ]
    }
   ],
   "source": [
    "generator = FinancialReportGenerator(index_file=\"indexNews.json\", questions_file=\"Question Prompt//credit_report.txt\")\n",
    "generator.generate_report()"
   ]
  },
  {
   "cell_type": "code",
   "execution_count": null,
   "metadata": {},
   "outputs": [],
   "source": []
  }
 ],
 "metadata": {
  "kernelspec": {
   "display_name": "FinAnna",
   "language": "python",
   "name": "python3"
  },
  "language_info": {
   "codemirror_mode": {
    "name": "ipython",
    "version": 3
   },
   "file_extension": ".py",
   "mimetype": "text/x-python",
   "name": "python",
   "nbconvert_exporter": "python",
   "pygments_lexer": "ipython3",
   "version": "3.10.12"
  },
  "orig_nbformat": 4
 },
 "nbformat": 4,
 "nbformat_minor": 2
}
